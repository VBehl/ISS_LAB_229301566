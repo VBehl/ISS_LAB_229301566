{
  "nbformat": 4,
  "nbformat_minor": 0,
  "metadata": {
    "colab": {
      "provenance": []
    },
    "kernelspec": {
      "name": "python3",
      "display_name": "Python 3"
    },
    "language_info": {
      "name": "python"
    }
  },
  "cells": [
    {
      "cell_type": "code",
      "execution_count": 2,
      "metadata": {
        "colab": {
          "base_uri": "https://localhost:8080/"
        },
        "id": "8PXMcQamUwu6",
        "outputId": "6f55ad57-0196-4274-bb47-9193e302cab1"
      },
      "outputs": [
        {
          "output_type": "stream",
          "name": "stdout",
          "text": [
            "Enter text: cryptography\n",
            "Enter key: 5\n",
            "Encrypted Text:  carrpyghpoyt\n",
            "Decrypted Text:  cryptography\n"
          ]
        }
      ],
      "source": [
        "def encryptRailFence(text, key):\n",
        "    rail = [['\\n' for _ in range(len(text))] for _ in range(key)]\n",
        "    dir_down = False\n",
        "    row, col = 0, 0\n",
        "\n",
        "    for i in range(len(text)):\n",
        "        if row == 0 or row == key - 1:\n",
        "            dir_down = not dir_down\n",
        "        rail[row][col] = text[i]\n",
        "        col += 1\n",
        "        row += 1 if dir_down else -1\n",
        "\n",
        "    return \"\".join(rail[i][j] for i in range(key) for j in range(len(text)) if rail[i][j] != '\\n')\n",
        "\n",
        "def decryptRailFence(cipher, key):\n",
        "    rail = [['\\n' for _ in range(len(cipher))] for _ in range(key)]\n",
        "    dir_down = None\n",
        "    row, col = 0, 0\n",
        "\n",
        "    for i in range(len(cipher)):\n",
        "        if row == 0:\n",
        "            dir_down = True\n",
        "        if row == key - 1:\n",
        "            dir_down = False\n",
        "        rail[row][col] = '*'\n",
        "        col += 1\n",
        "        row += 1 if dir_down else -1\n",
        "\n",
        "    index = 0\n",
        "    for i in range(key):\n",
        "        for j in range(len(cipher)):\n",
        "            if rail[i][j] == '*' and index < len(cipher):\n",
        "                rail[i][j] = cipher[index]\n",
        "                index += 1\n",
        "\n",
        "    result = []\n",
        "    row, col = 0, 0\n",
        "    for i in range(len(cipher)):\n",
        "        if row == 0:\n",
        "            dir_down = True\n",
        "        if row == key - 1:\n",
        "            dir_down = False\n",
        "        result.append(rail[row][col])\n",
        "        col += 1\n",
        "        row += 1 if dir_down else -1\n",
        "\n",
        "    return \"\".join(result)\n",
        "\n",
        "text = input(\"Enter text: \")\n",
        "key = int(input(\"Enter key: \"))\n",
        "cipher_text = encryptRailFence(text, key)\n",
        "print(\"Encrypted Text: \", cipher_text)\n",
        "decrypted_text = decryptRailFence(cipher_text, key)\n",
        "print(\"Decrypted Text: \", decrypted_text)\n"
      ]
    }
  ]
}
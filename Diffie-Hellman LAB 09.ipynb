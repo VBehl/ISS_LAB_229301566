{
  "nbformat": 4,
  "nbformat_minor": 0,
  "metadata": {
    "colab": {
      "provenance": []
    },
    "kernelspec": {
      "name": "python3",
      "display_name": "Python 3"
    },
    "language_info": {
      "name": "python"
    }
  },
  "cells": [
    {
      "cell_type": "code",
      "execution_count": 1,
      "metadata": {
        "colab": {
          "base_uri": "https://localhost:8080/"
        },
        "id": "qO0FIWsX5dEF",
        "outputId": "f6bc620d-ace0-49e3-ac5a-b10a0870d600"
      },
      "outputs": [
        {
          "output_type": "stream",
          "name": "stdout",
          "text": [
            "=== Diffie-Hellman Key Exchange ===\n",
            "Global Prime (p): 4294967291\n",
            "Primitive Root (g): 5\n",
            "\n",
            "-- Alice --\n",
            "Alice's Private Key (secret): 1763902187\n",
            "Alice's Public Key (shared): 66698081\n",
            "\n",
            "-- Bob --\n",
            "Bob's Private Key (secret): 3959774285\n",
            "Bob's Public Key (shared): 1712444328\n",
            "\n",
            "-- Shared Secret Computation --\n",
            "Alice's Computed Shared Secret: 438950446\n",
            "Bob's Computed Shared Secret: 438950446\n",
            "\n",
            "✅ Key exchange successful! Shared secret established.\n"
          ]
        }
      ],
      "source": [
        "# Diffie-Hellman Key Exchange - Secure Version for Lab Record\n",
        "# Author: [Your Name]\n",
        "# Date: [Today's Date]\n",
        "# Description: This program demonstrates the Diffie-Hellman key exchange protocol using Python.\n",
        "\n",
        "import secrets\n",
        "\n",
        "# Step 1: Define global public parameters\n",
        "# Large prime number (p) and primitive root modulo p (g)\n",
        "p = 0xFFFFFFFB  # A large 32-bit prime number\n",
        "g = 5           # A small primitive root (safe for demo)\n",
        "\n",
        "print(\"=== Diffie-Hellman Key Exchange ===\")\n",
        "print(f\"Global Prime (p): {p}\")\n",
        "print(f\"Primitive Root (g): {g}\")\n",
        "\n",
        "# Step 2: Alice generates her private and public key\n",
        "alice_private = secrets.randbelow(p - 2) + 2  # Random private key in range [2, p-1]\n",
        "alice_public = pow(g, alice_private, p)\n",
        "\n",
        "print(\"\\n-- Alice --\")\n",
        "print(f\"Alice's Private Key (secret): {alice_private}\")\n",
        "print(f\"Alice's Public Key (shared): {alice_public}\")\n",
        "\n",
        "# Step 3: Bob generates his private and public key\n",
        "bob_private = secrets.randbelow(p - 2) + 2  # Random private key in range [2, p-1]\n",
        "bob_public = pow(g, bob_private, p)\n",
        "\n",
        "print(\"\\n-- Bob --\")\n",
        "print(f\"Bob's Private Key (secret): {bob_private}\")\n",
        "print(f\"Bob's Public Key (shared): {bob_public}\")\n",
        "\n",
        "# Step 4: Compute the shared secret key\n",
        "# Each party uses the other's public key with their private key\n",
        "alice_shared_secret = pow(bob_public, alice_private, p)\n",
        "bob_shared_secret = pow(alice_public, bob_private, p)\n",
        "\n",
        "print(\"\\n-- Shared Secret Computation --\")\n",
        "print(f\"Alice's Computed Shared Secret: {alice_shared_secret}\")\n",
        "print(f\"Bob's Computed Shared Secret: {bob_shared_secret}\")\n",
        "\n",
        "# Step 5: Verify the result\n",
        "if alice_shared_secret == bob_shared_secret:\n",
        "    print(\"\\n✅ Key exchange successful! Shared secret established.\")\n",
        "else:\n",
        "    print(\"\\n❌ Key exchange failed! Shared secrets do not match.\")\n"
      ]
    }
  ]
}
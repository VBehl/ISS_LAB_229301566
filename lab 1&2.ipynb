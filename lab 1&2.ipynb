{
  "cells": [
    {
      "cell_type": "code",
      "source": [
        "\n",
        "def caesar_encrypt(text, shift):\n",
        "    encrypted = \"\"\n",
        "    for ch in text:\n",
        "        if ch.isalpha():\n",
        "            base = 'a' if ch.islower() else 'A'\n",
        "            encrypted += chr((ord(ch) - ord(base) + shift) % 26 + ord(base))\n",
        "        else:\n",
        "            encrypted += ch\n",
        "    return encrypted\n",
        "\n",
        "def caesar_decrypt(text, shift):\n",
        "    decrypted = \"\"\n",
        "    for ch in text:\n",
        "        if ch.isalpha():\n",
        "            base = 'a' if ch.islower() else 'A'\n",
        "            decrypted += chr((ord(ch) - ord(base) - shift + 26) % 26 + ord(base))\n",
        "        else:\n",
        "            decrypted += ch\n",
        "    return decrypted\n",
        "\n",
        "text = input(\"Enter text to encrypt: \")\n",
        "shift = int(input(\"Enter shift value: \"))\n",
        "encrypted_text = caesar_encrypt(text, shift)\n",
        "print(\"Encrypted text:\", encrypted_text)\n",
        "decrypted_text = caesar_decrypt(encrypted_text, shift)\n",
        "print(\"Decrypted text:\", decrypted_text)\n",
        "\n"
      ],
      "metadata": {
        "colab": {
          "base_uri": "https://localhost:8080/"
        },
        "id": "u2i9hupWoHJY",
        "outputId": "d36167d0-58f6-408b-b996-84e4bd43de9d"
      },
      "execution_count": null,
      "outputs": [
        {
          "output_type": "stream",
          "name": "stdout",
          "text": [
            "Enter text to encrypt: abcd\n",
            "Enter shift value: 3\n",
            "Encrypted text: defg\n",
            "Decrypted text: abcd\n"
          ]
        }
      ]
    },
    {
      "cell_type": "code",
      "source": [
        "def generate_key_matrix(key):\n",
        "    key = \"\".join(dict.fromkeys(key.upper().replace(\"J\", \"I\").replace(\" \", \"\")))\n",
        "    alphabet = \"ABCDEFGHIKLMNOPQRSTUVWXYZ\"\n",
        "    key_matrix = []\n",
        "\n",
        "    for char in key:\n",
        "        if char not in key_matrix:\n",
        "            key_matrix.append(char)\n",
        "\n",
        "    for char in alphabet:\n",
        "        if char not in key_matrix:\n",
        "            key_matrix.append(char)\n",
        "\n",
        "    return [key_matrix[i:i+5] for i in range(0, 25, 5)]\n",
        "\n",
        "\n",
        "def find_position(matrix, char):\n",
        "    char = char.replace(\"J\", \"I\")\n",
        "    for row in range(5):\n",
        "        for col in range(5):\n",
        "            if matrix[row][col] == char:\n",
        "                return row, col\n",
        "\n",
        "\n",
        "def playfair_encrypt(plaintext, key):\n",
        "    key_matrix = generate_key_matrix(key)\n",
        "    plaintext = plaintext.upper().replace(\"J\", \"I\").replace(\" \", \"\")\n",
        "    if len(plaintext) % 2 != 0:\n",
        "        plaintext += \"X\"\n",
        "\n",
        "    encrypted_text = \"\"\n",
        "    i = 0\n",
        "    while i < len(plaintext):\n",
        "        a, b = plaintext[i], plaintext[i + 1] if i + 1 < len(plaintext) else \"X\"\n",
        "        if a == b:\n",
        "            b = \"X\"\n",
        "\n",
        "        r1, c1 = find_position(key_matrix, a)\n",
        "        r2, c2 = find_position(key_matrix, b)\n",
        "\n",
        "        if r1 == r2:\n",
        "            encrypted_text += key_matrix[r1][(c1 + 1) % 5] + key_matrix[r2][(c2 + 1) % 5]\n",
        "        elif c1 == c2:\n",
        "            encrypted_text += key_matrix[(r1 + 1) % 5][c1] + key_matrix[(r2 + 1) % 5][c2]\n",
        "        else:\n",
        "            encrypted_text += key_matrix[r1][c2] + key_matrix[r2][c1]\n",
        "\n",
        "        i += 2\n",
        "\n",
        "    return encrypted_text\n",
        "\n",
        "\n",
        "def playfair_decrypt(ciphertext, key):\n",
        "    key_matrix = generate_key_matrix(key)\n",
        "    ciphertext = ciphertext.upper().replace(\" \", \"\")\n",
        "\n",
        "    decrypted_text = \"\"\n",
        "    i = 0\n",
        "    while i < len(ciphertext):\n",
        "        a, b = ciphertext[i], ciphertext[i + 1]\n",
        "\n",
        "        r1, c1 = find_position(key_matrix, a)\n",
        "        r2, c2 = find_position(key_matrix, b)\n",
        "\n",
        "        if r1 == r2:\n",
        "            decrypted_text += key_matrix[r1][(c1 - 1) % 5] + key_matrix[r2][(c2 - 1) % 5]\n",
        "        elif c1 == c2:\n",
        "            decrypted_text += key_matrix[(r1 - 1) % 5][c1] + key_matrix[(r2 - 1) % 5][c2]\n",
        "        else:\n",
        "            decrypted_text += key_matrix[r1][c2] + key_matrix[r2][c1]\n",
        "\n",
        "        i += 2\n",
        "\n",
        "    return decrypted_text\n",
        "\n",
        "key=input(\"Enter key: \")\n",
        "plaintext = input(\"Enter plaintext: \")\n",
        "ciphertext = playfair_encrypt(plaintext, key)\n",
        "decrypted_text = playfair_decrypt(ciphertext, key)\n",
        "\n",
        "print(\"\\nPlaintext:\", plaintext)\n",
        "print(\"Encrypted:\", ciphertext)\n",
        "print(\"Decrypted:\", decrypted_text)"
      ],
      "metadata": {
        "colab": {
          "base_uri": "https://localhost:8080/"
        },
        "id": "Lq7aZe5WUMhZ",
        "outputId": "fe3a1655-9528-4b39-f90c-0617a44e8527"
      },
      "execution_count": 9,
      "outputs": [
        {
          "output_type": "stream",
          "name": "stdout",
          "text": [
            "Enter key: Neso Academy\n",
            "Enter plaintext: Hide the gold under the carpet\n",
            "\n",
            "Plaintext: Hide the gold under the carpet\n",
            "Encrypted: IKGDQKDPNRCVECOPQKNDOTVDRZ\n",
            "Decrypted: HIDETHEGOLDUNDERTHECARPETX\n"
          ]
        }
      ]
    },
    {
      "cell_type": "code",
      "source": [],
      "metadata": {
        "id": "dHHcQQzUqd_Z"
      },
      "execution_count": null,
      "outputs": []
    }
  ],
  "metadata": {
    "colab": {
      "provenance": []
    },
    "kernelspec": {
      "display_name": "Python 3",
      "name": "python3"
    },
    "language_info": {
      "name": "python"
    }
  },
  "nbformat": 4,
  "nbformat_minor": 0
}
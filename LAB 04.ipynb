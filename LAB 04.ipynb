{
  "nbformat": 4,
  "nbformat_minor": 0,
  "metadata": {
    "colab": {
      "provenance": []
    },
    "kernelspec": {
      "name": "python3",
      "display_name": "Python 3"
    },
    "language_info": {
      "name": "python"
    }
  },
  "cells": [
    {
      "cell_type": "code",
      "execution_count": 9,
      "metadata": {
        "colab": {
          "base_uri": "https://localhost:8080/"
        },
        "id": "-vkfjlqi7rYe",
        "outputId": "bf11c1b0-f9b0-42d7-c856-cea4baf4c036"
      },
      "outputs": [
        {
          "output_type": "stream",
          "name": "stdout",
          "text": [
            "Enter the message: vigenere\n",
            "Enter the key (only alphabets): cipher\n",
            "Encrypted Message: XQVLRVTM\n",
            "Decrypted Message: VIGENERE\n"
          ]
        }
      ],
      "source": [
        "def generate_key(message, key):\n",
        "    key = key.upper()\n",
        "    key = list(key)\n",
        "    if len(key) == len(message):\n",
        "        return \"\".join(key)\n",
        "    else:\n",
        "        for i in range(len(message) - len(key)):\n",
        "            key.append(key[i % len(key)])\n",
        "    return \"\".join(key)\n",
        "\n",
        "def encrypt(message, key):\n",
        "    message = message.upper()\n",
        "    encrypted_text = []\n",
        "    key = generate_key(message, key)\n",
        "\n",
        "    for i in range(len(message)):\n",
        "        if message[i].isalpha():\n",
        "            shift = ord(key[i]) - ord('A')\n",
        "            encrypted_text.append(chr((ord(message[i]) + shift - 65) % 26 + 65))\n",
        "        else:\n",
        "            encrypted_text.append(message[i])\n",
        "\n",
        "    return \"\".join(encrypted_text)\n",
        "\n",
        "def decrypt(ciphertext, key):\n",
        "    ciphertext = ciphertext.upper()\n",
        "    decrypted_text = []\n",
        "    key = generate_key(ciphertext, key)\n",
        "\n",
        "    for i in range(len(ciphertext)):\n",
        "        if ciphertext[i].isalpha():\n",
        "            shift = ord(key[i]) - ord('A')\n",
        "            decrypted_text.append(chr((ord(ciphertext[i]) - shift - 65) % 26 + 65))\n",
        "        else:\n",
        "            decrypted_text.append(ciphertext[i])\n",
        "\n",
        "    return \"\".join(decrypted_text)\n",
        "\n",
        "message = input(\"Enter the message: \")\n",
        "key = input(\"Enter the key (only alphabets): \")\n",
        "\n",
        "encrypted_message = encrypt(message, key)\n",
        "print(f\"Encrypted Message: {encrypted_message}\")\n",
        "\n",
        "decrypted_message = decrypt(encrypted_message, key)\n",
        "print(f\"Decrypted Message: {decrypted_message}\")\n"
      ]
    }
  ]
}
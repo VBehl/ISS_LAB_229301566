{
  "nbformat": 4,
  "nbformat_minor": 0,
  "metadata": {
    "colab": {
      "provenance": []
    },
    "kernelspec": {
      "name": "python3",
      "display_name": "Python 3"
    },
    "language_info": {
      "name": "python"
    }
  },
  "cells": [
    {
      "cell_type": "code",
      "execution_count": null,
      "metadata": {
        "id": "abDVb1Dp7xai"
      },
      "outputs": [],
      "source": [
        "# Define Fermat primality test using fixed base\n",
        "def fermat_test_with_fixed_base(n, base=2, k=5):\n",
        "    print(f\"\\nRunning Fermat Test on {n} using base {base} for {k} iterations.\")\n",
        "\n",
        "    if n <= 1:\n",
        "        print(\"Number must be greater than 1.\")\n",
        "        return False\n",
        "    if base <= 1 or base >= n:\n",
        "        print(\"Base must be between 2 and n-1.\")\n",
        "        return False\n",
        "\n",
        "    for i in range(1, k + 1):\n",
        "        print(f\"Iteration {i}: Testing if {base}^({n}-1) % {n} == 1\")\n",
        "        if pow(base, n - 1, n) != 1:\n",
        "            print(f\"→ Failed at iteration {i}: {n} is composite.\")\n",
        "            return False\n",
        "\n",
        "    print(f\"→ Passed all {k} iterations: {n} is probably prime.\")\n",
        "    return True\n"
      ]
    },
    {
      "cell_type": "code",
      "source": [
        "# Define the main function for user input and displaying results\n",
        "def main():\n",
        "    print(\"=== Fermat Primality Test with Fixed Base (Base = 2) ===\")\n",
        "    try:\n",
        "        n = int(input(\"Enter a number to test for primality: \"))\n",
        "        k = int(input(\"Enter the number of iterations: \"))\n",
        "\n",
        "        result = fermat_test_with_fixed_base(n, base=2, k=k)\n",
        "\n",
        "        print(\"\\n=== Final Result ===\")\n",
        "        if result:\n",
        "            print(f\"{n} is probably prime (passed Fermat test with base 2).\")\n",
        "        else:\n",
        "            print(f\"{n} is definitely composite (failed Fermat test with base 2).\")\n",
        "\n",
        "    except ValueError:\n",
        "        print(\"Invalid input. Please enter valid integers.\")\n"
      ],
      "metadata": {
        "id": "hidlhl9a8T65"
      },
      "execution_count": null,
      "outputs": []
    },
    {
      "cell_type": "code",
      "source": [
        "# Run the main function to perform Fermat test\n",
        "main()"
      ],
      "metadata": {
        "colab": {
          "base_uri": "https://localhost:8080/"
        },
        "id": "5DjMC3zr8VzC",
        "outputId": "034e9400-40c5-4e4b-edfa-0142263a1380"
      },
      "execution_count": null,
      "outputs": [
        {
          "output_type": "stream",
          "name": "stdout",
          "text": [
            "=== Fermat Primality Test with Fixed Base (Base = 2) ===\n",
            "Enter a number to test for primality: 561\n",
            "Enter the number of iterations: 10\n",
            "\n",
            "Running Fermat Test on 561 using base 2 for 10 iterations.\n",
            "Iteration 1: Testing if 2^(561-1) % 561 == 1\n",
            "Iteration 2: Testing if 2^(561-1) % 561 == 1\n",
            "Iteration 3: Testing if 2^(561-1) % 561 == 1\n",
            "Iteration 4: Testing if 2^(561-1) % 561 == 1\n",
            "Iteration 5: Testing if 2^(561-1) % 561 == 1\n",
            "Iteration 6: Testing if 2^(561-1) % 561 == 1\n",
            "Iteration 7: Testing if 2^(561-1) % 561 == 1\n",
            "Iteration 8: Testing if 2^(561-1) % 561 == 1\n",
            "Iteration 9: Testing if 2^(561-1) % 561 == 1\n",
            "Iteration 10: Testing if 2^(561-1) % 561 == 1\n",
            "→ Passed all 10 iterations: 561 is probably prime.\n",
            "\n",
            "=== Final Result ===\n",
            "561 is probably prime (passed Fermat test with base 2).\n"
          ]
        }
      ]
    },
    {
      "cell_type": "code",
      "source": [
        "# Import random module for base selection\n",
        "import random"
      ],
      "metadata": {
        "id": "V9Zv8rYM8g7x"
      },
      "execution_count": null,
      "outputs": []
    },
    {
      "cell_type": "code",
      "source": [
        "# Define Fermat primality test with random bases\n",
        "def is_probably_prime(n, k):\n",
        "    if n == 1:\n",
        "        print(\"1 is neither prime nor composite.\")\n",
        "        return False\n",
        "    if n < 1:\n",
        "        print(\"Number must be greater than 0.\")\n",
        "        return False\n",
        "    if n <= 3:\n",
        "        return True\n",
        "\n",
        "    for _ in range(k):\n",
        "        # Choose a random base 'a'\n",
        "        a = random.randint(2, n - 2)\n",
        "        print(f\"Testing with base: {a}\")\n",
        "\n",
        "        # Check if a^(n-1) ≡ 1 mod n\n",
        "        if pow(a, n - 1, n) != 1:\n",
        "            return False  # Definitely composite\n",
        "\n",
        "    return True  # Probably prime\n"
      ],
      "metadata": {
        "id": "fGYZL9xp8sr1"
      },
      "execution_count": null,
      "outputs": []
    },
    {
      "cell_type": "code",
      "source": [
        "# Define main function to handle input and run the test\n",
        "def main():\n",
        "    print(\"=== Fermat Primality Test ===\")\n",
        "\n",
        "    try:\n",
        "        n = int(input(\"Enter a number to test for primality: \"))\n",
        "        k = int(input(\"Enter number of iterations (more = higher accuracy, e.g., 5 or 10): \"))\n",
        "\n",
        "        if n <= 0 or k <= 0:\n",
        "            print(\"Both number and iteration count must be positive integers.\")\n",
        "            return\n",
        "\n",
        "        result = is_probably_prime(n, k)\n",
        "        if result and n != 1:\n",
        "            print(f\"{n} is probably a prime number (after {k} iterations).\")\n",
        "        elif n != 1:\n",
        "            print(f\"{n} is definitely a composite number.\")\n",
        "\n",
        "    except ValueError:\n",
        "        print(\"Invalid input. Please enter valid integers.\")\n"
      ],
      "metadata": {
        "id": "HPUE4iA18xuY"
      },
      "execution_count": null,
      "outputs": []
    },
    {
      "cell_type": "code",
      "source": [
        "# Run the main function to perform Fermat test\n",
        "main()\n"
      ],
      "metadata": {
        "colab": {
          "base_uri": "https://localhost:8080/"
        },
        "id": "dKHmo_W881lk",
        "outputId": "565265a1-cb1e-45a8-8ee7-c83626672a4e"
      },
      "execution_count": null,
      "outputs": [
        {
          "output_type": "stream",
          "name": "stdout",
          "text": [
            "=== Fermat Primality Test ===\n",
            "Enter a number to test for primality: 25\n",
            "Enter number of iterations (more = higher accuracy, e.g., 5 or 10): 2\n",
            "Testing with base: 19\n",
            "25 is definitely a composite number.\n"
          ]
        }
      ]
    }
  ]
}